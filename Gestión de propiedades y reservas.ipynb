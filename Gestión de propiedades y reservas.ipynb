{
 "cells": [
  {
   "cell_type": "markdown",
   "metadata": {},
   "source": [
    "#  **Gestión de propiedades y reservas de apartamentos en un portafolio**"
   ]
  },
  {
   "cell_type": "markdown",
   "metadata": {},
   "source": [
    "## **Calendar** \n",
    "\n",
    "Muestra la representación detallada de la disponibilidad y el estado de las propiedades (apartamentos) en un determinado período de tiempo. Aquí está una explicación más detallada de cada campo en el bloque \"Calendar\":\n",
    "\n",
    "1. __PropertyId (Id de la propiedad)__: Es una identificación única asociada a cada propiedad, que probablemente se refiere a un apartamento específico dentro del portafolio.\n",
    "\n",
    "2. __CalendarDate (Fecha en el calendario)__: Representa una fecha específica entre el 01/07/2022 y el 31/12/2022.\n",
    "\n",
    "3. __Blocked (Estado)__:\n",
    "    * 0 (No reservado): Indica que el apartamento estaba disponible en esa fecha.\n",
    "    * 1 (Bloqueado): Significa que el apartamento estaba cerrado y no estaba disponible para reservar en esa fecha.\n",
    "    * 2 (Reservado): Indica que el apartamento estaba ocupado por clientes en esa fecha.\n",
    "\n",
    "4. __Property_BookingId (Id de reserva de la propiedad)__: Este campo solo está presente si el estado (Blocked) es igual a 2, lo que significa que la propiedad estaba reservada en esa fecha. En este caso, el __Property_BookingId__ sería el identificador único asociado a esa reserva específica.\n",
    "\n",
    "## **Propiedades (Properties)**\n",
    "Proporciona información estática sobre las propiedades del portafolio, como su identificación única y la capacidad de personas que pueden alojarse en cada apartamento.\n",
    "\n",
    "1. __PropertyId (Id de la propiedad)__: Es una identificación única asociada a cada propiedad (apartamento) en el portafolio.\n",
    "\n",
    "2. __PR_Sleeps (Capacidad para dormir)__: Indica la capacidad del apartamento en personas, es decir, cuántas personas pueden dormir en ese apartamento.\n",
    "\n",
    "## **Reservas (Bookings)**\n",
    "Proporciona información detallada sobre las reservas realizadas, incluyendo el costo total, duración, fecha de creación y el canal a través del cual se realizó la reserva.\n",
    "\n",
    "1. __Property_BookingId (Id de reserva de la propiedad)__: Identificación única asociada a una reserva específica.\n",
    "\n",
    "2. __PB_TotalPrice (Precio total de la reserva)__: Representa el costo total de la reserva.\n",
    "\n",
    "3. __PB_NumNights (Número de noches de la reserva)__: Indica cuántas noches está programada la reserva.\n",
    "\n",
    "4. __PB_BookingCreatedDate (Fecha de creación de la reserva)__: Muestra la fecha en que se creó la reserva.\n",
    "\n",
    "5. __PB_BookingChannelOriginId (Id del canal de origen de la reserva)__: Identificación del canal a través del cual se realizó la reserva."
   ]
  },
  {
   "cell_type": "code",
   "execution_count": 7,
   "metadata": {
    "tags": []
   },
   "outputs": [],
   "source": [
    "# librerias\n",
    "import pandas as pd"
   ]
  },
  {
   "cell_type": "code",
   "execution_count": 15,
   "metadata": {
    "tags": []
   },
   "outputs": [],
   "source": [
    "# Especifica la ruta del archivo Excel\n",
    "archivo_excel = 'data/Data analysis test.xlsx'\n",
    "\n",
    "# Carga el archivo Excel en un DataFrame de pandas\n",
    "calendar    = pd.read_excel(archivo_excel, sheet_name= 'Calendar')\n",
    "Properties  = pd.read_excel(archivo_excel, sheet_name= 'Properties')\n",
    "Bookings    = pd.read_excel(archivo_excel, sheet_name= 'Bookings')\n"
   ]
  }
 ],
 "metadata": {
  "kernelspec": {
   "display_name": "su",
   "language": "python",
   "name": "python3"
  },
  "language_info": {
   "codemirror_mode": {
    "name": "ipython",
    "version": 3
   },
   "file_extension": ".py",
   "mimetype": "text/x-python",
   "name": "python",
   "nbconvert_exporter": "python",
   "pygments_lexer": "ipython3",
   "version": "3.10.6"
  }
 },
 "nbformat": 4,
 "nbformat_minor": 2
}
