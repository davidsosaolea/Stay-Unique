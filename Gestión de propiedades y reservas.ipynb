{
 "cells": [
  {
   "cell_type": "markdown",
   "metadata": {},
   "source": [
    "#  **Gestión de propiedades y reservas de apartamentos en un portafolio**"
   ]
  },
  {
   "cell_type": "markdown",
   "metadata": {},
   "source": [
    "## **Calendar** \n",
    "\n",
    "Muestra la representación detallada de la disponibilidad y el estado de las propiedades (apartamentos) en un determinado período de tiempo. Aquí está una explicación más detallada de cada campo en el bloque \"Calendar\":\n",
    "\n",
    "1. __PropertyId (Id de la propiedad)__: Es una identificación única asociada a cada propiedad, que probablemente se refiere a un apartamento específico dentro del portafolio.\n",
    "\n",
    "2. __CalendarDate (Fecha en el calendario)__: Representa una fecha específica entre el 01/07/2022 y el 31/12/2022.\n",
    "\n",
    "3. __Blocked (Estado)__:\n",
    "    * 0 (No reservado): Indica que el apartamento estaba disponible en esa fecha.\n",
    "    * 1 (Bloqueado): Significa que el apartamento estaba cerrado y no estaba disponible para reservar en esa fecha.\n",
    "    * 2 (Reservado): Indica que el apartamento estaba ocupado por clientes en esa fecha.\n",
    "\n",
    "4. __Property_BookingId (Id de reserva de la propiedad)__: Este campo solo está presente si el estado (Blocked) es igual a 2, lo que significa que la propiedad estaba reservada en esa fecha. En este caso, el __Property_BookingId__ sería el identificador único asociado a esa reserva específica.\n",
    "\n",
    "## **Propiedades (Properties)**\n",
    "Proporciona información estática sobre las propiedades del portafolio, como su identificación única y la capacidad de personas que pueden alojarse en cada apartamento.\n",
    "\n",
    "1. __PropertyId (Id de la propiedad)__: Es una identificación única asociada a cada propiedad (apartamento) en el portafolio.\n",
    "\n",
    "2. __PR_Sleeps (Capacidad para dormir)__: Indica la capacidad del apartamento en personas, es decir, cuántas personas pueden dormir en ese apartamento.\n",
    "\n",
    "## **Reservas (Bookings)**\n",
    "Proporciona información detallada sobre las reservas realizadas, incluyendo el costo total, duración, fecha de creación y el canal a través del cual se realizó la reserva.\n",
    "\n",
    "1. __Property_BookingId (Id de reserva de la propiedad)__: Identificación única asociada a una reserva específica.\n",
    "\n",
    "2. __PB_TotalPrice (Precio total de la reserva)__: Representa el costo total de la reserva.\n",
    "\n",
    "3. __PB_NumNights (Número de noches de la reserva)__: Indica cuántas noches está programada la reserva.\n",
    "\n",
    "4. __PB_BookingCreatedDate (Fecha de creación de la reserva)__: Muestra la fecha en que se creó la reserva.\n",
    "\n",
    "5. __PB_BookingChannelOriginId (Id del canal de origen de la reserva)__: Identificación del canal a través del cual se realizó la reserva."
   ]
  },
  {
   "cell_type": "code",
   "execution_count": 5,
   "metadata": {
    "tags": []
   },
   "outputs": [],
   "source": [
    "# librerias\n",
    "import pandas as pd"
   ]
  },
  {
   "cell_type": "code",
   "execution_count": 6,
   "metadata": {
    "tags": []
   },
   "outputs": [],
   "source": [
    "# Especifica la ruta del archivo Excel\n",
    "archivo_excel = 'data/Data analysis test.xlsx'\n",
    "\n",
    "# Carga el archivo Excel en un DataFrame de pandas\n",
    "calendar    = pd.read_excel(archivo_excel, sheet_name= 'Calendar')\n",
    "Properties  = pd.read_excel(archivo_excel, sheet_name= 'Properties')\n",
    "Bookings    = pd.read_excel(archivo_excel, sheet_name= 'Bookings')\n"
   ]
  },
  {
   "cell_type": "markdown",
   "metadata": {},
   "source": [
    "## Visión general de la ocupación mensual "
   ]
  },
  {
   "cell_type": "markdown",
   "metadata": {},
   "source": [
    "* Calcula la ocupación mensual para cada propiedad en el portafolio. Utiliza los datos del bloque \"Calendar\" para contar las noches bloqueadas y las noches reservadas en cada mes.\n",
    "* La ocupación sera igual : \n",
    "\n",
    "         Ocupación (%) = (Noches Disponible / Noches Reservadas) * 100 = (((Fecha maxina - Fecha minima) - Noches Bloqueadad) / Noches Reservadas) * 100"
   ]
  },
  {
   "cell_type": "code",
   "execution_count": 27,
   "metadata": {},
   "outputs": [
    {
     "name": "stdout",
     "output_type": "stream",
     "text": [
      "Entre(2022-12-31 00:00:00) y (2022-07-01 00:00:00) hay un total de 184 días\n"
     ]
    }
   ],
   "source": [
    "# Suponiendo que 'CalendarDate' es una columna de tipo datetime en tu DataFrame 'calendar'\n",
    "calendar['CalendarDate'] = pd.to_datetime(calendar['CalendarDate'])\n",
    "\n",
    "# Encuentra la fecha máxima y mínima\n",
    "fecha_maxima = calendar['CalendarDate'].max()\n",
    "fecha_minima = calendar['CalendarDate'].min()\n",
    "\n",
    "# Calcula la diferencia en días\n",
    "diferencia_en_dias = (fecha_maxima - fecha_minima).days\n",
    "\n",
    "print(f\"Entre({fecha_maxima}) y ({fecha_minima}) hay un total de {diferencia_en_dias + 1} días\")"
   ]
  },
  {
   "cell_type": "code",
   "execution_count": 24,
   "metadata": {},
   "outputs": [
    {
     "data": {
      "text/html": [
       "<div>\n",
       "<style scoped>\n",
       "    .dataframe tbody tr th:only-of-type {\n",
       "        vertical-align: middle;\n",
       "    }\n",
       "\n",
       "    .dataframe tbody tr th {\n",
       "        vertical-align: top;\n",
       "    }\n",
       "\n",
       "    .dataframe thead th {\n",
       "        text-align: right;\n",
       "    }\n",
       "</style>\n",
       "<table border=\"1\" class=\"dataframe\">\n",
       "  <thead>\n",
       "    <tr style=\"text-align: right;\">\n",
       "      <th>Blocked</th>\n",
       "      <th>0</th>\n",
       "      <th>1</th>\n",
       "      <th>2</th>\n",
       "    </tr>\n",
       "    <tr>\n",
       "      <th>PropertyId</th>\n",
       "      <th></th>\n",
       "      <th></th>\n",
       "      <th></th>\n",
       "    </tr>\n",
       "  </thead>\n",
       "  <tbody>\n",
       "    <tr>\n",
       "      <th>2883</th>\n",
       "      <td>23</td>\n",
       "      <td>1</td>\n",
       "      <td>160</td>\n",
       "    </tr>\n",
       "    <tr>\n",
       "      <th>3963</th>\n",
       "      <td>35</td>\n",
       "      <td>1</td>\n",
       "      <td>148</td>\n",
       "    </tr>\n",
       "    <tr>\n",
       "      <th>3964</th>\n",
       "      <td>17</td>\n",
       "      <td>1</td>\n",
       "      <td>166</td>\n",
       "    </tr>\n",
       "    <tr>\n",
       "      <th>4138</th>\n",
       "      <td>21</td>\n",
       "      <td>7</td>\n",
       "      <td>156</td>\n",
       "    </tr>\n",
       "    <tr>\n",
       "      <th>4181</th>\n",
       "      <td>22</td>\n",
       "      <td>1</td>\n",
       "      <td>161</td>\n",
       "    </tr>\n",
       "    <tr>\n",
       "      <th>...</th>\n",
       "      <td>...</td>\n",
       "      <td>...</td>\n",
       "      <td>...</td>\n",
       "    </tr>\n",
       "    <tr>\n",
       "      <th>43368</th>\n",
       "      <td>184</td>\n",
       "      <td>0</td>\n",
       "      <td>0</td>\n",
       "    </tr>\n",
       "    <tr>\n",
       "      <th>43371</th>\n",
       "      <td>13</td>\n",
       "      <td>0</td>\n",
       "      <td>6</td>\n",
       "    </tr>\n",
       "    <tr>\n",
       "      <th>43372</th>\n",
       "      <td>1</td>\n",
       "      <td>0</td>\n",
       "      <td>0</td>\n",
       "    </tr>\n",
       "    <tr>\n",
       "      <th>43406</th>\n",
       "      <td>184</td>\n",
       "      <td>0</td>\n",
       "      <td>0</td>\n",
       "    </tr>\n",
       "    <tr>\n",
       "      <th>43416</th>\n",
       "      <td>184</td>\n",
       "      <td>0</td>\n",
       "      <td>0</td>\n",
       "    </tr>\n",
       "  </tbody>\n",
       "</table>\n",
       "<p>223 rows × 3 columns</p>\n",
       "</div>"
      ],
      "text/plain": [
       "Blocked       0  1    2\n",
       "PropertyId             \n",
       "2883         23  1  160\n",
       "3963         35  1  148\n",
       "3964         17  1  166\n",
       "4138         21  7  156\n",
       "4181         22  1  161\n",
       "...         ... ..  ...\n",
       "43368       184  0    0\n",
       "43371        13  0    6\n",
       "43372         1  0    0\n",
       "43406       184  0    0\n",
       "43416       184  0    0\n",
       "\n",
       "[223 rows x 3 columns]"
      ]
     },
     "execution_count": 24,
     "metadata": {},
     "output_type": "execute_result"
    }
   ],
   "source": [
    "# Convertir la columna 'CalendarDate' a objetos de fecha\n",
    "calendar['CalendarDate'] = pd.to_datetime(calendar['CalendarDate'])\n",
    "\n",
    "# Resumen según los valores únicos en 'PropertyId'\n",
    "resumen = calendar.groupby('PropertyId')['Blocked'].value_counts().unstack(fill_value=0)\n",
    "\n",
    "# Imprimir el resumen\n",
    "resumen"
   ]
  },
  {
   "cell_type": "code",
   "execution_count": 31,
   "metadata": {},
   "outputs": [
    {
     "name": "stdout",
     "output_type": "stream",
     "text": [
      "                    Valores faltantes  Porcentaje de valores faltantes\n",
      "PropertyId                          0                         0.000000\n",
      "CalendarDate                        0                         0.000000\n",
      "Blocked                             0                         0.000000\n",
      "Property_BookingId               7725                        19.862186\n"
     ]
    }
   ],
   "source": [
    "# Obtener un resumen de los valores faltantes en cada columna\n",
    "resumen_valores_faltantes = calendar.isnull().sum()\n",
    "\n",
    "# Obtener el porcentaje de valores faltantes en cada columna\n",
    "porcentaje_valores_faltantes = (calendar.isnull().mean()) * 100\n",
    "\n",
    "# Crear un DataFrame con el resumen\n",
    "resumen = pd.DataFrame({\n",
    "    'Valores faltantes': resumen_valores_faltantes,\n",
    "    'Porcentaje de valores faltantes': porcentaje_valores_faltantes\n",
    "})\n",
    "\n",
    "# Mostrar el resumen\n",
    "print(resumen)"
   ]
  }
 ],
 "metadata": {
  "kernelspec": {
   "display_name": "su",
   "language": "python",
   "name": "python3"
  },
  "language_info": {
   "codemirror_mode": {
    "name": "ipython",
    "version": 3
   },
   "file_extension": ".py",
   "mimetype": "text/x-python",
   "name": "python",
   "nbconvert_exporter": "python",
   "pygments_lexer": "ipython3",
   "version": "3.10.6"
  }
 },
 "nbformat": 4,
 "nbformat_minor": 2
}
